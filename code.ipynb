{
 "cells": [
  {
   "cell_type": "code",
   "execution_count": 2,
   "id": "36644328",
   "metadata": {},
   "outputs": [
    {
     "name": "stdout",
     "output_type": "stream",
     "text": [
      "AI Response:  MS Dhoni (Mahendra Singh Dhoni) is a former Indian cricketer who served as the captain of the Indian national team in limited-overs formats from 2007 to 2016, and Test cricket from 2008 to 2014. He led India to victory in the 2011 ICC Cricket World Cup and is widely regarded as one of the greatest cricketers of all time. Dhoni made his international debut on 23 December 2004 against Bangladesh, but it was his performance at the 2007 T20 World Cup that caught everyone's attention, where he led India to victory and became a household name in India. He is known for his aggressive playing style, exceptional finishing abilities, and excellent wicket-keeping skills. After retiring from international cricket in 2020, Dhoni continues to play for the Chennai Super Kings in the Indian Premier League (IPL).\n"
     ]
    }
   ],
   "source": [
    "import ollama\n",
    "\n",
    "# Define the model to use (e.g., \"mistral\", \"llama2\", \"phi\", etc.)\n",
    "\n",
    "# User's prompt to the AI\n",
    "prompt = input()\n",
    "\n",
    "# Send the message to the model\n",
    "response = ollama.chat(\n",
    "    model=\"mistral\",\n",
    "    messages=[\n",
    "        {\"role\": \"user\", \"content\": prompt}\n",
    "    ]\n",
    ")\n",
    "\n",
    "# Display the AI's response\n",
    "print(\"AI Response:\", response[\"message\"][\"content\"])\n"
   ]
  },
  {
   "cell_type": "code",
   "execution_count": 12,
   "id": "627e482b",
   "metadata": {},
   "outputs": [
    {
     "name": "stdout",
     "output_type": "stream",
     "text": [
      "🛍️ Final Ranked Recommendations:\n",
      "\n",
      "1. Lifestyle: Instant Pot Duo Plus 9-in-1 Electric Pressure Cooker - This product is highly relevant for a typical online shopper, especially those who are interested in cooking and home appliances. The multifunctionality of this pressure cooker makes it an attractive option, as it can simplify the cooking process, save time, and create restaurant-quality meals at home.\n",
      "\n",
      "  2. Tech: Apple AirPods Max (Over-Ear Headphones) - While not every online shopper may be a tech enthusiast or an Apple user, those who are will find this product highly relevant. The exceptional sound quality and seamless integration with other Apple devices make these headphones appealing to technology lovers.\n",
      "\n",
      "  3. Fashion: Gucci Ace Sneakers - For fashion-conscious online shoppers, designer sneakers like the Gucci Ace can be a desirable item due to their unique designs and blend of streetwear style with luxury fashion. However, not all shoppers may be interested in designer items, so it ranks slightly lower than the first two products.\n",
      "\n",
      "  4. Fashion: The North Face Thermoball Eco Insulated Jacket - This product is relevant for online shoppers who are into outdoor activities and eco-friendly choices. However, it might not be as appealing to those who don't prioritize these factors in their wardrobe decisions.\n",
      "\n",
      "  5. Lifestyle: Dyson Airwrap Styler - While this hair styling tool offers advanced technology and beautiful styles, it may not be as relevant for a typical online shopper compared to the other products listed. This is because not everyone may have an interest in hair styling tools or be willing to invest in a high-end hair appliance like the Dyson Airwrap Styler.\n"
     ]
    }
   ],
   "source": [
    "import requests\n",
    "import pandas as pd\n",
    "\n",
    "OLLAMA_URL = \"http://localhost:11434/api/generate\"\n",
    "\n",
    "# Helper function to send a prompt to Ollama and get a response\n",
    "def query_ollama(model: str, prompt: str) -> str:\n",
    "    response = requests.post(OLLAMA_URL, json={\n",
    "        \"model\": model,\n",
    "        \"prompt\": prompt,\n",
    "        \"stream\": False\n",
    "    })\n",
    "    return response.json().get(\"response\", \"\")\n",
    "\n",
    "# Agent 1: User Profiler\n",
    "def user_profiler_agent(user_data: str) -> str:\n",
    "    prompt = f\"\"\"\n",
    "    Based on the following customer dataset, generate a user profile that summarizes interests, preferred categories, price range, seasonal preferences, and potential needs:\n",
    "\n",
    "    {user_data}\n",
    "    \"\"\"\n",
    "    return query_ollama(\"mistral\", prompt)\n",
    "\n",
    "# Agent 2: Product Matcher\n",
    "def product_matcher_agent(user_profile: str, product_catalog: str) -> str:\n",
    "    prompt = f\"\"\"\n",
    "    User Profile:\n",
    "    {user_profile}\n",
    "\n",
    "    Product Catalog:\n",
    "    {product_catalog}\n",
    "\n",
    "    Recommend 5 hyper-personalized products from the catalog that best fit the user profile.\n",
    "    \"\"\"\n",
    "    return query_ollama(\"mistral\", prompt)\n",
    "\n",
    "# Agent 3: Trend Analyzer\n",
    "def trend_analyzer_agent() -> str:\n",
    "    prompt = \"List 5 trending products across tech, fashion, and lifestyle.\"\n",
    "    return query_ollama(\"mistral\", prompt)\n",
    "\n",
    "# Agent 4: Judge Agent\n",
    "def judge_agent(recommendations: str) -> str:\n",
    "    prompt = f\"\"\"\n",
    "    Here are several product recommendations:\n",
    "    {recommendations}\n",
    "\n",
    "    Rank them in order of most to least relevant for a typical online shopper. Justify the top 3.\n",
    "    \"\"\"\n",
    "    return query_ollama(\"mistral\", prompt)\n",
    "\n",
    "# Load user data from CSV\n",
    "def load_user_data(filepath: str) -> str:\n",
    "    df = pd.read_csv(filepath)\n",
    "    return df.to_string(index=False)\n",
    "\n",
    "# Load product catalog and format it for prompt input\n",
    "def load_product_catalog(filepath: str) -> str:\n",
    "    df = pd.read_csv(filepath)\n",
    "    return \"\\n\".join(\n",
    "        f\"{row['Product_ID']}. {row.get('Brand', 'Unknown')} - {row['Category']} ({row['Subcategory']}) - Rating: {row['Product_Rating']} - Similar: {row.get('Similar_Product_List', 'N/A')}\"\n",
    "        for _, row in df.iterrows()\n",
    "    )\n",
    "\n",
    "# Load data files\n",
    "user_data = load_user_data(\"customer_data_collection.csv\")\n",
    "product_catalog = load_product_catalog(\"product_recommendation_data.csv\")\n",
    "\n",
    "# Multi-agent workflow\n",
    "user_profile = user_profiler_agent(user_data)\n",
    "trending_items = trend_analyzer_agent()\n",
    "combined_catalog = product_catalog + \"\\nTrending Items:\\n\" + trending_items\n",
    "recommendations = product_matcher_agent(user_profile, combined_catalog)\n",
    "final_ranking = judge_agent(recommendations)\n",
    "\n",
    "# Output final ranked recommendations\n",
    "print(\"🛍️ Final Ranked Recommendations:\\n\")\n",
    "print(final_ranking)\n"
   ]
  },
  {
   "cell_type": "code",
   "execution_count": 9,
   "id": "6c2d0bab",
   "metadata": {},
   "outputs": [
    {
     "name": "stdout",
     "output_type": "stream",
     "text": [
      "Current Directory: c:\\Users\\22jr1\\OneDrive\\Desktop\\accencture project\n",
      "Available Files: ['code.ipynb', 'dataset.csv', 'import sqlite3.py']\n"
     ]
    }
   ],
   "source": [
    "import os\n",
    "\n",
    "print(\"Current Directory:\", os.getcwd())\n",
    "print(\"Available Files:\", os.listdir())\n"
   ]
  },
  {
   "cell_type": "code",
   "execution_count": null,
   "id": "03ac3fd6",
   "metadata": {},
   "outputs": [],
   "source": []
  }
 ],
 "metadata": {
  "kernelspec": {
   "display_name": "Python 3",
   "language": "python",
   "name": "python3"
  },
  "language_info": {
   "codemirror_mode": {
    "name": "ipython",
    "version": 3
   },
   "file_extension": ".py",
   "mimetype": "text/x-python",
   "name": "python",
   "nbconvert_exporter": "python",
   "pygments_lexer": "ipython3",
   "version": "3.10.9"
  }
 },
 "nbformat": 4,
 "nbformat_minor": 5
}
